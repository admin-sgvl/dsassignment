{
  "cells": [
    {
      "cell_type": "markdown",
      "source": [
        "**Exercise 2: Create markdown cell with title of the notebook**"
      ],
      "metadata": {
        "id": "PCB9eCZC_OFU"
      }
    },
    {
      "cell_type": "markdown",
      "metadata": {
        "id": "o34ltw8x-45D"
      },
      "source": [
        "# Data Science Tools and Ecosystem"
      ]
    },
    {
      "cell_type": "markdown",
      "source": [
        "**Exercise 3 - Create a markdown cell for an introduction**"
      ],
      "metadata": {
        "id": "Dk0Bm2BY_cDA"
      }
    },
    {
      "cell_type": "markdown",
      "metadata": {
        "id": "m3YwAVTq-45E"
      },
      "source": [
        "In this notebook, Data Science Tools and Ecosystem are summarized."
      ]
    },
    {
      "cell_type": "markdown",
      "source": [
        "**Exercise 4 - Create a markdown cell to list data science languages**"
      ],
      "metadata": {
        "id": "1nGhxDiy_4Fz"
      }
    },
    {
      "cell_type": "markdown",
      "metadata": {
        "id": "HmnvbQyt-45E"
      },
      "source": [
        "Some of the popular languages that Data Scientists use are:\n",
        "1. Python\n",
        "2. R\n",
        "3. SQL\n",
        "4. Julia"
      ]
    },
    {
      "cell_type": "markdown",
      "source": [
        "**Exercise 5 - Create a markdown cell to list data science libraries**"
      ],
      "metadata": {
        "id": "C7LxfbivAImG"
      }
    },
    {
      "cell_type": "markdown",
      "metadata": {
        "id": "FWwqWCOJ-45E"
      },
      "source": [
        "Some of the commonly used libraries used by Data Scientists include:\n",
        "1. Pandas\n",
        "2. NumPy\n",
        "3. Scikit-learn\n",
        "4. TensorFlow"
      ]
    },
    {
      "cell_type": "markdown",
      "source": [
        "**Exercise 6 - Create a markdown cell with a table of Data Science tools**"
      ],
      "metadata": {
        "id": "fT2KQ8yKDEVY"
      }
    },
    {
      "cell_type": "markdown",
      "metadata": {
        "id": "dD_Z-202-45E"
      },
      "source": [
        "| Data Science Tools         |\n",
        "|---------------------------|\n",
        "| Jupyter Notebook          |\n",
        "| RStudio                   |\n",
        "| Apache Zeppelin           |"
      ]
    },
    {
      "cell_type": "markdown",
      "source": [
        "**Exercise 7 - Create a markdown cell introducing arithmetic expression examples**"
      ],
      "metadata": {
        "id": "svfk8b7nDP2O"
      }
    },
    {
      "cell_type": "markdown",
      "metadata": {
        "id": "otV9z6tR-45F"
      },
      "source": [
        "### Below are a few examples of evaluating arithmetic expressions in Python."
      ]
    },
    {
      "cell_type": "markdown",
      "source": [
        "**Exercise 8 - Create a code cell to multiply and add numbers**"
      ],
      "metadata": {
        "id": "oJ6PkB05Dbgy"
      }
    },
    {
      "cell_type": "code",
      "execution_count": 1,
      "metadata": {
        "colab": {
          "base_uri": "https://localhost:8080/"
        },
        "id": "kk5OUQH6-45F",
        "outputId": "bb27ac9a-8f2b-452b-b8e6-d2663f3784bc"
      },
      "outputs": [
        {
          "output_type": "execute_result",
          "data": {
            "text/plain": [
              "17"
            ]
          },
          "metadata": {},
          "execution_count": 1
        }
      ],
      "source": [
        "# This is a simple arithmetic expression to multiply then add integers\n",
        "(3 * 4) + 5"
      ]
    },
    {
      "cell_type": "markdown",
      "source": [
        "**Exercise 9 - Create a code cell to convert minutes to hours**"
      ],
      "metadata": {
        "id": "bisdH0KkDoBo"
      }
    },
    {
      "cell_type": "code",
      "execution_count": 2,
      "metadata": {
        "colab": {
          "base_uri": "https://localhost:8080/"
        },
        "id": "c2hjQ89n-45F",
        "outputId": "30cf0763-98b2-4e2a-c44e-b72e08e7dba3"
      },
      "outputs": [
        {
          "output_type": "execute_result",
          "data": {
            "text/plain": [
              "3.3333333333333335"
            ]
          },
          "metadata": {},
          "execution_count": 2
        }
      ],
      "source": [
        "# This will convert 200 minutes to hours by dividing by 60\n",
        "200 / 60"
      ]
    },
    {
      "cell_type": "markdown",
      "source": [
        "**Exercise 10 - Insert a markdown cell to list Objectives**"
      ],
      "metadata": {
        "id": "0ke731zbD114"
      }
    },
    {
      "cell_type": "markdown",
      "metadata": {
        "id": "9-4KQRGe-45F"
      },
      "source": [
        "**Objectives:**\n",
        "\n",
        "- List popular languages for Data Science\n",
        "- List commonly used libraries by data scientists\n",
        "- Demonstrate arithmetic expression evaluations in Python\n",
        "- Create and format markdown cells in a Jupyter Notebook\n",
        "- Convert time from minutes to hours using Python"
      ]
    },
    {
      "cell_type": "markdown",
      "source": [
        "**Exercise 11 - Create a markdown cell to indicate the Author's name**"
      ],
      "metadata": {
        "id": "ht93LBvqD7Py"
      }
    },
    {
      "cell_type": "markdown",
      "metadata": {
        "id": "UZnkKmQT-45F"
      },
      "source": [
        "## Author\n",
        "\n",
        "Patrick Oh"
      ]
    }
  ],
  "metadata": {
    "kernelspec": {
      "display_name": "Python 3",
      "language": "python",
      "name": "python3"
    },
    "language_info": {
      "codemirror_mode": {
        "name": "ipython",
        "version": 3
      },
      "file_extension": ".py",
      "mimetype": "text/x-python",
      "name": "python",
      "nbconvert_exporter": "python",
      "pygments_lexer": "ipython3",
      "version": "3.8"
    },
    "colab": {
      "provenance": []
    }
  },
  "nbformat": 4,
  "nbformat_minor": 0
}